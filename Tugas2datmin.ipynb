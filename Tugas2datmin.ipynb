{
  "nbformat": 4,
  "nbformat_minor": 0,
  "metadata": {
    "colab": {
      "provenance": [],
      "authorship_tag": "ABX9TyMcQFpsOpGeRU4yVVVg4rvM",
      "include_colab_link": true
    },
    "kernelspec": {
      "name": "python3",
      "display_name": "Python 3"
    },
    "language_info": {
      "name": "python"
    }
  },
  "cells": [
    {
      "cell_type": "markdown",
      "metadata": {
        "id": "view-in-github",
        "colab_type": "text"
      },
      "source": [
        "<a href=\"https://colab.research.google.com/github/FinaAnriani/TugasDataMining2/blob/main/Tugas2datmin.ipynb\" target=\"_parent\"><img src=\"https://colab.research.google.com/assets/colab-badge.svg\" alt=\"Open In Colab\"/></a>"
      ]
    },
    {
      "cell_type": "markdown",
      "source": [
        "#**Nama : Fina Anriani**\n",
        "#**NIM : 2209116051**\n",
        "#**Kelas : Sistem Informasi A 2022**\n",
        "#**Sesi : A2**"
      ],
      "metadata": {
        "id": "RKyCng1rv181"
      }
    },
    {
      "cell_type": "markdown",
      "source": [
        "#**Faktor-faktor yang Mempengaruhi seseorang Berbelanja di Online Store**"
      ],
      "metadata": {
        "id": "W1dHIB3AciFI"
      }
    },
    {
      "cell_type": "markdown",
      "source": [
        "#**Import Library**"
      ],
      "metadata": {
        "id": "DEYS1_6ffihQ"
      }
    },
    {
      "cell_type": "code",
      "source": [
        "import pandas as pd\n",
        "import seaborn as sns\n",
        "import matplotlib.pyplot as plt\n",
        "import numpy as np"
      ],
      "metadata": {
        "id": "W0JqkzQLfqfl"
      },
      "execution_count": null,
      "outputs": []
    },
    {
      "cell_type": "markdown",
      "source": [
        "#**BUSINESS UNDERSTANDING**"
      ],
      "metadata": {
        "id": "rirDlQ2Gfvhh"
      }
    },
    {
      "cell_type": "markdown",
      "source": [
        "#**Business Objective**"
      ],
      "metadata": {
        "id": "1WbNrGB9f4iF"
      }
    },
    {
      "cell_type": "markdown",
      "source": [
        "Tujuan bisnis dari dataset ini adalah untuk memahami faktor-faktor yang mempengaruhi seseorang untuk berbelanja di online store. Selain itu juga untuk meningkatkan tingkat konversi pembelian di online store, serta mengoptimalkan strategi marketing online store."
      ],
      "metadata": {
        "id": "v1uVizIigMPO"
      }
    },
    {
      "cell_type": "markdown",
      "source": [
        "#**Assess Situation**"
      ],
      "metadata": {
        "id": "6Z2KnmxigNot"
      }
    },
    {
      "cell_type": "markdown",
      "source": [
        "• Pertumbuhan e-commerce yang pesat.\n",
        "\n",
        "• Kebutuhan untuk memahami perilaku konsumen online.\n"
      ],
      "metadata": {
        "id": "QewHnnH2gTnO"
      }
    },
    {
      "cell_type": "markdown",
      "source": [
        "#**Data Mining Goals**"
      ],
      "metadata": {
        "id": "oFIPXx9QgUXj"
      }
    },
    {
      "cell_type": "markdown",
      "source": [
        "• Mengidentifikasi faktor-faktor yang mempengaruhi seseorang untuk berbelanja di online store.\n",
        "\n",
        "• Membangun model prediktif untuk memprediksi kemungkinan pembelian di online store.\n",
        "\n",
        "• Memberikan rekomendasi untuk optimasi strategi marketing online store."
      ],
      "metadata": {
        "id": "bIr7Gkt7gahQ"
      }
    },
    {
      "cell_type": "markdown",
      "source": [
        "#**Project Plan**"
      ],
      "metadata": {
        "id": "_GhK5ZYygbJt"
      }
    },
    {
      "cell_type": "markdown",
      "source": [
        "Rencana proyek dimulai dengan mengumpulkan data dari berbagai sumber, seperti website online store, database pelanggan, survei online, dan lain-lain. Kemudian data dibersihkan, ditangani missing values nya, dan dilakukan transformasi data. Setelah itu data dianalisis untuk memahami pola dan tren. Lalu dibangun model prediktif menggunakan algoritma data mining yang sesuai. Terakhir, data dievaluasi kinerja model nya dan dipastikan lagi bahwa model sudah baik."
      ],
      "metadata": {
        "id": "xlQ2xuJ9gqPn"
      }
    },
    {
      "cell_type": "markdown",
      "source": [
        "#**DATA UNDERSTANDING**"
      ],
      "metadata": {
        "id": "QaZkbDFggq-M"
      }
    },
    {
      "cell_type": "markdown",
      "source": [
        "#**Collect Initial Data**"
      ],
      "metadata": {
        "id": "TQKX7vnOgwkr"
      }
    },
    {
      "cell_type": "markdown",
      "source": [
        "Dataset **\"Online Store Customer data\"** ini merupakan sebuah dataset yang berisi data-data dari pelanggan dari toko online. Dataset ini bersumber dari kaggle.\n",
        "\n",
        "Berikut adalah link nya:\n",
        "https://www.kaggle.com/datasets/mountboy/online-store-customer-data"
      ],
      "metadata": {
        "id": "LodrDCmBg4m7"
      }
    },
    {
      "cell_type": "code",
      "source": [
        "df_file = pd.read_csv('/content/online_store_customer_data.csv')"
      ],
      "metadata": {
        "id": "VX0mUfBsg6YJ"
      },
      "execution_count": null,
      "outputs": []
    },
    {
      "cell_type": "code",
      "source": [
        "df_file"
      ],
      "metadata": {
        "colab": {
          "base_uri": "https://localhost:8080/",
          "height": 424
        },
        "id": "Ci1BLfc8muTv",
        "outputId": "78ea4ae9-62d8-472e-da1f-e03b21768cf3"
      },
      "execution_count": null,
      "outputs": [
        {
          "output_type": "execute_result",
          "data": {
            "text/plain": [
              "     Transaction_date  Transaction_ID  Gender   Age Marital_status  \\\n",
              "0            1/1/2019          151200  Female  19.0         Single   \n",
              "1            1/1/2019          151201    Male  49.0         Single   \n",
              "2            1/1/2019          151202    Male  63.0        Married   \n",
              "3            1/1/2019          151203     NaN  18.0         Single   \n",
              "4            1/1/2019          151204    Male  27.0         Single   \n",
              "...               ...             ...     ...   ...            ...   \n",
              "2507         5/1/2021          153695  Female  57.0         Single   \n",
              "2508         5/1/2021          153696  Female  36.0        Married   \n",
              "2509         5/1/2021          153697    Male  22.0         Single   \n",
              "2510         5/1/2021          153698     NaN  44.0         Single   \n",
              "2511         5/1/2021          153699    Male  48.0         Single   \n",
              "\n",
              "         State_names   Segment Employees_status Payment_method  Referal  \\\n",
              "0             Kansas     Basic     Unemployment          Other      1.0   \n",
              "1           Illinois     Basic    self-employed           Card      0.0   \n",
              "2         New Mexico     Basic          workers         PayPal      1.0   \n",
              "3           Virginia  Platinum          workers           Card      1.0   \n",
              "4        Connecticut     Basic    self-employed           Card      0.0   \n",
              "...              ...       ...              ...            ...      ...   \n",
              "2507  South Carolina  Platinum    self-employed           Card      0.0   \n",
              "2508          Hawaii    Silver    self-employed         PayPal      1.0   \n",
              "2509  South Carolina     Basic          workers         PayPal      1.0   \n",
              "2510        New York     Basic        Employees         PayPal      0.0   \n",
              "2511      California    Silver          workers         PayPal      1.0   \n",
              "\n",
              "      Amount_spent  \n",
              "0          2051.36  \n",
              "1           544.04  \n",
              "2          1572.60  \n",
              "3          1199.79  \n",
              "4              NaN  \n",
              "...            ...  \n",
              "2507        150.10  \n",
              "2508        708.88  \n",
              "2509       2030.07  \n",
              "2510       1909.77  \n",
              "2511       1073.15  \n",
              "\n",
              "[2512 rows x 11 columns]"
            ],
            "text/html": [
              "\n",
              "  <div id=\"df-7b4142c5-cac7-47a5-a951-078003d38f43\" class=\"colab-df-container\">\n",
              "    <div>\n",
              "<style scoped>\n",
              "    .dataframe tbody tr th:only-of-type {\n",
              "        vertical-align: middle;\n",
              "    }\n",
              "\n",
              "    .dataframe tbody tr th {\n",
              "        vertical-align: top;\n",
              "    }\n",
              "\n",
              "    .dataframe thead th {\n",
              "        text-align: right;\n",
              "    }\n",
              "</style>\n",
              "<table border=\"1\" class=\"dataframe\">\n",
              "  <thead>\n",
              "    <tr style=\"text-align: right;\">\n",
              "      <th></th>\n",
              "      <th>Transaction_date</th>\n",
              "      <th>Transaction_ID</th>\n",
              "      <th>Gender</th>\n",
              "      <th>Age</th>\n",
              "      <th>Marital_status</th>\n",
              "      <th>State_names</th>\n",
              "      <th>Segment</th>\n",
              "      <th>Employees_status</th>\n",
              "      <th>Payment_method</th>\n",
              "      <th>Referal</th>\n",
              "      <th>Amount_spent</th>\n",
              "    </tr>\n",
              "  </thead>\n",
              "  <tbody>\n",
              "    <tr>\n",
              "      <th>0</th>\n",
              "      <td>1/1/2019</td>\n",
              "      <td>151200</td>\n",
              "      <td>Female</td>\n",
              "      <td>19.0</td>\n",
              "      <td>Single</td>\n",
              "      <td>Kansas</td>\n",
              "      <td>Basic</td>\n",
              "      <td>Unemployment</td>\n",
              "      <td>Other</td>\n",
              "      <td>1.0</td>\n",
              "      <td>2051.36</td>\n",
              "    </tr>\n",
              "    <tr>\n",
              "      <th>1</th>\n",
              "      <td>1/1/2019</td>\n",
              "      <td>151201</td>\n",
              "      <td>Male</td>\n",
              "      <td>49.0</td>\n",
              "      <td>Single</td>\n",
              "      <td>Illinois</td>\n",
              "      <td>Basic</td>\n",
              "      <td>self-employed</td>\n",
              "      <td>Card</td>\n",
              "      <td>0.0</td>\n",
              "      <td>544.04</td>\n",
              "    </tr>\n",
              "    <tr>\n",
              "      <th>2</th>\n",
              "      <td>1/1/2019</td>\n",
              "      <td>151202</td>\n",
              "      <td>Male</td>\n",
              "      <td>63.0</td>\n",
              "      <td>Married</td>\n",
              "      <td>New Mexico</td>\n",
              "      <td>Basic</td>\n",
              "      <td>workers</td>\n",
              "      <td>PayPal</td>\n",
              "      <td>1.0</td>\n",
              "      <td>1572.60</td>\n",
              "    </tr>\n",
              "    <tr>\n",
              "      <th>3</th>\n",
              "      <td>1/1/2019</td>\n",
              "      <td>151203</td>\n",
              "      <td>NaN</td>\n",
              "      <td>18.0</td>\n",
              "      <td>Single</td>\n",
              "      <td>Virginia</td>\n",
              "      <td>Platinum</td>\n",
              "      <td>workers</td>\n",
              "      <td>Card</td>\n",
              "      <td>1.0</td>\n",
              "      <td>1199.79</td>\n",
              "    </tr>\n",
              "    <tr>\n",
              "      <th>4</th>\n",
              "      <td>1/1/2019</td>\n",
              "      <td>151204</td>\n",
              "      <td>Male</td>\n",
              "      <td>27.0</td>\n",
              "      <td>Single</td>\n",
              "      <td>Connecticut</td>\n",
              "      <td>Basic</td>\n",
              "      <td>self-employed</td>\n",
              "      <td>Card</td>\n",
              "      <td>0.0</td>\n",
              "      <td>NaN</td>\n",
              "    </tr>\n",
              "    <tr>\n",
              "      <th>...</th>\n",
              "      <td>...</td>\n",
              "      <td>...</td>\n",
              "      <td>...</td>\n",
              "      <td>...</td>\n",
              "      <td>...</td>\n",
              "      <td>...</td>\n",
              "      <td>...</td>\n",
              "      <td>...</td>\n",
              "      <td>...</td>\n",
              "      <td>...</td>\n",
              "      <td>...</td>\n",
              "    </tr>\n",
              "    <tr>\n",
              "      <th>2507</th>\n",
              "      <td>5/1/2021</td>\n",
              "      <td>153695</td>\n",
              "      <td>Female</td>\n",
              "      <td>57.0</td>\n",
              "      <td>Single</td>\n",
              "      <td>South Carolina</td>\n",
              "      <td>Platinum</td>\n",
              "      <td>self-employed</td>\n",
              "      <td>Card</td>\n",
              "      <td>0.0</td>\n",
              "      <td>150.10</td>\n",
              "    </tr>\n",
              "    <tr>\n",
              "      <th>2508</th>\n",
              "      <td>5/1/2021</td>\n",
              "      <td>153696</td>\n",
              "      <td>Female</td>\n",
              "      <td>36.0</td>\n",
              "      <td>Married</td>\n",
              "      <td>Hawaii</td>\n",
              "      <td>Silver</td>\n",
              "      <td>self-employed</td>\n",
              "      <td>PayPal</td>\n",
              "      <td>1.0</td>\n",
              "      <td>708.88</td>\n",
              "    </tr>\n",
              "    <tr>\n",
              "      <th>2509</th>\n",
              "      <td>5/1/2021</td>\n",
              "      <td>153697</td>\n",
              "      <td>Male</td>\n",
              "      <td>22.0</td>\n",
              "      <td>Single</td>\n",
              "      <td>South Carolina</td>\n",
              "      <td>Basic</td>\n",
              "      <td>workers</td>\n",
              "      <td>PayPal</td>\n",
              "      <td>1.0</td>\n",
              "      <td>2030.07</td>\n",
              "    </tr>\n",
              "    <tr>\n",
              "      <th>2510</th>\n",
              "      <td>5/1/2021</td>\n",
              "      <td>153698</td>\n",
              "      <td>NaN</td>\n",
              "      <td>44.0</td>\n",
              "      <td>Single</td>\n",
              "      <td>New York</td>\n",
              "      <td>Basic</td>\n",
              "      <td>Employees</td>\n",
              "      <td>PayPal</td>\n",
              "      <td>0.0</td>\n",
              "      <td>1909.77</td>\n",
              "    </tr>\n",
              "    <tr>\n",
              "      <th>2511</th>\n",
              "      <td>5/1/2021</td>\n",
              "      <td>153699</td>\n",
              "      <td>Male</td>\n",
              "      <td>48.0</td>\n",
              "      <td>Single</td>\n",
              "      <td>California</td>\n",
              "      <td>Silver</td>\n",
              "      <td>workers</td>\n",
              "      <td>PayPal</td>\n",
              "      <td>1.0</td>\n",
              "      <td>1073.15</td>\n",
              "    </tr>\n",
              "  </tbody>\n",
              "</table>\n",
              "<p>2512 rows × 11 columns</p>\n",
              "</div>\n",
              "    <div class=\"colab-df-buttons\">\n",
              "\n",
              "  <div class=\"colab-df-container\">\n",
              "    <button class=\"colab-df-convert\" onclick=\"convertToInteractive('df-7b4142c5-cac7-47a5-a951-078003d38f43')\"\n",
              "            title=\"Convert this dataframe to an interactive table.\"\n",
              "            style=\"display:none;\">\n",
              "\n",
              "  <svg xmlns=\"http://www.w3.org/2000/svg\" height=\"24px\" viewBox=\"0 -960 960 960\">\n",
              "    <path d=\"M120-120v-720h720v720H120Zm60-500h600v-160H180v160Zm220 220h160v-160H400v160Zm0 220h160v-160H400v160ZM180-400h160v-160H180v160Zm440 0h160v-160H620v160ZM180-180h160v-160H180v160Zm440 0h160v-160H620v160Z\"/>\n",
              "  </svg>\n",
              "    </button>\n",
              "\n",
              "  <style>\n",
              "    .colab-df-container {\n",
              "      display:flex;\n",
              "      gap: 12px;\n",
              "    }\n",
              "\n",
              "    .colab-df-convert {\n",
              "      background-color: #E8F0FE;\n",
              "      border: none;\n",
              "      border-radius: 50%;\n",
              "      cursor: pointer;\n",
              "      display: none;\n",
              "      fill: #1967D2;\n",
              "      height: 32px;\n",
              "      padding: 0 0 0 0;\n",
              "      width: 32px;\n",
              "    }\n",
              "\n",
              "    .colab-df-convert:hover {\n",
              "      background-color: #E2EBFA;\n",
              "      box-shadow: 0px 1px 2px rgba(60, 64, 67, 0.3), 0px 1px 3px 1px rgba(60, 64, 67, 0.15);\n",
              "      fill: #174EA6;\n",
              "    }\n",
              "\n",
              "    .colab-df-buttons div {\n",
              "      margin-bottom: 4px;\n",
              "    }\n",
              "\n",
              "    [theme=dark] .colab-df-convert {\n",
              "      background-color: #3B4455;\n",
              "      fill: #D2E3FC;\n",
              "    }\n",
              "\n",
              "    [theme=dark] .colab-df-convert:hover {\n",
              "      background-color: #434B5C;\n",
              "      box-shadow: 0px 1px 3px 1px rgba(0, 0, 0, 0.15);\n",
              "      filter: drop-shadow(0px 1px 2px rgba(0, 0, 0, 0.3));\n",
              "      fill: #FFFFFF;\n",
              "    }\n",
              "  </style>\n",
              "\n",
              "    <script>\n",
              "      const buttonEl =\n",
              "        document.querySelector('#df-7b4142c5-cac7-47a5-a951-078003d38f43 button.colab-df-convert');\n",
              "      buttonEl.style.display =\n",
              "        google.colab.kernel.accessAllowed ? 'block' : 'none';\n",
              "\n",
              "      async function convertToInteractive(key) {\n",
              "        const element = document.querySelector('#df-7b4142c5-cac7-47a5-a951-078003d38f43');\n",
              "        const dataTable =\n",
              "          await google.colab.kernel.invokeFunction('convertToInteractive',\n",
              "                                                    [key], {});\n",
              "        if (!dataTable) return;\n",
              "\n",
              "        const docLinkHtml = 'Like what you see? Visit the ' +\n",
              "          '<a target=\"_blank\" href=https://colab.research.google.com/notebooks/data_table.ipynb>data table notebook</a>'\n",
              "          + ' to learn more about interactive tables.';\n",
              "        element.innerHTML = '';\n",
              "        dataTable['output_type'] = 'display_data';\n",
              "        await google.colab.output.renderOutput(dataTable, element);\n",
              "        const docLink = document.createElement('div');\n",
              "        docLink.innerHTML = docLinkHtml;\n",
              "        element.appendChild(docLink);\n",
              "      }\n",
              "    </script>\n",
              "  </div>\n",
              "\n",
              "\n",
              "<div id=\"df-9e832c2a-5ee3-438a-b2d5-afe45e9fd785\">\n",
              "  <button class=\"colab-df-quickchart\" onclick=\"quickchart('df-9e832c2a-5ee3-438a-b2d5-afe45e9fd785')\"\n",
              "            title=\"Suggest charts\"\n",
              "            style=\"display:none;\">\n",
              "\n",
              "<svg xmlns=\"http://www.w3.org/2000/svg\" height=\"24px\"viewBox=\"0 0 24 24\"\n",
              "     width=\"24px\">\n",
              "    <g>\n",
              "        <path d=\"M19 3H5c-1.1 0-2 .9-2 2v14c0 1.1.9 2 2 2h14c1.1 0 2-.9 2-2V5c0-1.1-.9-2-2-2zM9 17H7v-7h2v7zm4 0h-2V7h2v10zm4 0h-2v-4h2v4z\"/>\n",
              "    </g>\n",
              "</svg>\n",
              "  </button>\n",
              "\n",
              "<style>\n",
              "  .colab-df-quickchart {\n",
              "      --bg-color: #E8F0FE;\n",
              "      --fill-color: #1967D2;\n",
              "      --hover-bg-color: #E2EBFA;\n",
              "      --hover-fill-color: #174EA6;\n",
              "      --disabled-fill-color: #AAA;\n",
              "      --disabled-bg-color: #DDD;\n",
              "  }\n",
              "\n",
              "  [theme=dark] .colab-df-quickchart {\n",
              "      --bg-color: #3B4455;\n",
              "      --fill-color: #D2E3FC;\n",
              "      --hover-bg-color: #434B5C;\n",
              "      --hover-fill-color: #FFFFFF;\n",
              "      --disabled-bg-color: #3B4455;\n",
              "      --disabled-fill-color: #666;\n",
              "  }\n",
              "\n",
              "  .colab-df-quickchart {\n",
              "    background-color: var(--bg-color);\n",
              "    border: none;\n",
              "    border-radius: 50%;\n",
              "    cursor: pointer;\n",
              "    display: none;\n",
              "    fill: var(--fill-color);\n",
              "    height: 32px;\n",
              "    padding: 0;\n",
              "    width: 32px;\n",
              "  }\n",
              "\n",
              "  .colab-df-quickchart:hover {\n",
              "    background-color: var(--hover-bg-color);\n",
              "    box-shadow: 0 1px 2px rgba(60, 64, 67, 0.3), 0 1px 3px 1px rgba(60, 64, 67, 0.15);\n",
              "    fill: var(--button-hover-fill-color);\n",
              "  }\n",
              "\n",
              "  .colab-df-quickchart-complete:disabled,\n",
              "  .colab-df-quickchart-complete:disabled:hover {\n",
              "    background-color: var(--disabled-bg-color);\n",
              "    fill: var(--disabled-fill-color);\n",
              "    box-shadow: none;\n",
              "  }\n",
              "\n",
              "  .colab-df-spinner {\n",
              "    border: 2px solid var(--fill-color);\n",
              "    border-color: transparent;\n",
              "    border-bottom-color: var(--fill-color);\n",
              "    animation:\n",
              "      spin 1s steps(1) infinite;\n",
              "  }\n",
              "\n",
              "  @keyframes spin {\n",
              "    0% {\n",
              "      border-color: transparent;\n",
              "      border-bottom-color: var(--fill-color);\n",
              "      border-left-color: var(--fill-color);\n",
              "    }\n",
              "    20% {\n",
              "      border-color: transparent;\n",
              "      border-left-color: var(--fill-color);\n",
              "      border-top-color: var(--fill-color);\n",
              "    }\n",
              "    30% {\n",
              "      border-color: transparent;\n",
              "      border-left-color: var(--fill-color);\n",
              "      border-top-color: var(--fill-color);\n",
              "      border-right-color: var(--fill-color);\n",
              "    }\n",
              "    40% {\n",
              "      border-color: transparent;\n",
              "      border-right-color: var(--fill-color);\n",
              "      border-top-color: var(--fill-color);\n",
              "    }\n",
              "    60% {\n",
              "      border-color: transparent;\n",
              "      border-right-color: var(--fill-color);\n",
              "    }\n",
              "    80% {\n",
              "      border-color: transparent;\n",
              "      border-right-color: var(--fill-color);\n",
              "      border-bottom-color: var(--fill-color);\n",
              "    }\n",
              "    90% {\n",
              "      border-color: transparent;\n",
              "      border-bottom-color: var(--fill-color);\n",
              "    }\n",
              "  }\n",
              "</style>\n",
              "\n",
              "  <script>\n",
              "    async function quickchart(key) {\n",
              "      const quickchartButtonEl =\n",
              "        document.querySelector('#' + key + ' button');\n",
              "      quickchartButtonEl.disabled = true;  // To prevent multiple clicks.\n",
              "      quickchartButtonEl.classList.add('colab-df-spinner');\n",
              "      try {\n",
              "        const charts = await google.colab.kernel.invokeFunction(\n",
              "            'suggestCharts', [key], {});\n",
              "      } catch (error) {\n",
              "        console.error('Error during call to suggestCharts:', error);\n",
              "      }\n",
              "      quickchartButtonEl.classList.remove('colab-df-spinner');\n",
              "      quickchartButtonEl.classList.add('colab-df-quickchart-complete');\n",
              "    }\n",
              "    (() => {\n",
              "      let quickchartButtonEl =\n",
              "        document.querySelector('#df-9e832c2a-5ee3-438a-b2d5-afe45e9fd785 button');\n",
              "      quickchartButtonEl.style.display =\n",
              "        google.colab.kernel.accessAllowed ? 'block' : 'none';\n",
              "    })();\n",
              "  </script>\n",
              "</div>\n",
              "    </div>\n",
              "  </div>\n"
            ],
            "application/vnd.google.colaboratory.intrinsic+json": {
              "type": "dataframe",
              "variable_name": "df_file",
              "repr_error": "'str' object has no attribute 'empty'"
            }
          },
          "metadata": {},
          "execution_count": 3
        }
      ]
    },
    {
      "cell_type": "markdown",
      "source": [
        "#**Describe Data**"
      ],
      "metadata": {
        "id": "R4iWR_q6hKGV"
      }
    },
    {
      "cell_type": "markdown",
      "source": [
        "#Informasi Dasar"
      ],
      "metadata": {
        "id": "-IUuZTluhOr8"
      }
    },
    {
      "cell_type": "code",
      "source": [
        "df_file.shape"
      ],
      "metadata": {
        "colab": {
          "base_uri": "https://localhost:8080/"
        },
        "id": "maxIchw0j7h3",
        "outputId": "f00a5a92-c27c-43c5-ad25-28b64f0437c5"
      },
      "execution_count": null,
      "outputs": [
        {
          "output_type": "execute_result",
          "data": {
            "text/plain": [
              "(2512, 11)"
            ]
          },
          "metadata": {},
          "execution_count": 4
        }
      ]
    },
    {
      "cell_type": "markdown",
      "source": [
        "Dataset **\"Online Store Customer Data\"** ini merupakan sebuah dataset yang memiliki kolom sebanyak **11 kolom**, dan memiliki baris sebanyak **2512 baris**."
      ],
      "metadata": {
        "id": "wIVSzBQ4j-Nc"
      }
    },
    {
      "cell_type": "markdown",
      "source": [
        "#Informasi Lanjutan"
      ],
      "metadata": {
        "id": "NC3fmPTPjtCv"
      }
    },
    {
      "cell_type": "code",
      "source": [
        "df_file.info()"
      ],
      "metadata": {
        "colab": {
          "base_uri": "https://localhost:8080/"
        },
        "id": "jpLvgCxqjr9Z",
        "outputId": "f0dc20e4-fb79-4b1d-dfe7-0482c37b8e8e"
      },
      "execution_count": null,
      "outputs": [
        {
          "output_type": "stream",
          "name": "stdout",
          "text": [
            "<class 'pandas.core.frame.DataFrame'>\n",
            "RangeIndex: 2512 entries, 0 to 2511\n",
            "Data columns (total 11 columns):\n",
            " #   Column            Non-Null Count  Dtype  \n",
            "---  ------            --------------  -----  \n",
            " 0   Transaction_date  2512 non-null   object \n",
            " 1   Transaction_ID    2512 non-null   int64  \n",
            " 2   Gender            2484 non-null   object \n",
            " 3   Age               2470 non-null   float64\n",
            " 4   Marital_status    2512 non-null   object \n",
            " 5   State_names       2512 non-null   object \n",
            " 6   Segment           2512 non-null   object \n",
            " 7   Employees_status  2486 non-null   object \n",
            " 8   Payment_method    2512 non-null   object \n",
            " 9   Referal           2357 non-null   float64\n",
            " 10  Amount_spent      2270 non-null   float64\n",
            "dtypes: float64(3), int64(1), object(7)\n",
            "memory usage: 216.0+ KB\n"
          ]
        }
      ]
    },
    {
      "cell_type": "markdown",
      "source": [
        "Jadi kolom yang terdapat dalam dataset **\"Online Store Customer Data\"** ini adalah sebanyak 11 kolom dan memiliki 2512 baris.\n",
        "\n",
        "\n",
        "1. Transaction Date (Tipe data: object): Kolom ini berisi tanggal dan waktu terjadinya transaksi.\n",
        "2. Transaction Id (Tipe data: int64): Kolom ini berisi identifikasi unik untuk setiap transaksi. Biasanya berupa angka atau kombinasi angka dan huruf.\n",
        "3. Gender (Tipe data: object): Kolom ini berisi informasi tentang jenis kelamin pelanggan.\n",
        "4. Age (Tipe data: float64): Kolom ini berisi informasi tentang usia pelanggan.\n",
        "5. Marital Status (Tipe data: object): Kolom ini berisi informasi tentang status pernikahan pelanggan.\n",
        "6. State Names (Tipe data: object): Kolom ini berisi informasi tentang negara bagian atau provinsi tempat tinggal pelanggan.\n",
        "7. Segment (Tipe data: object): Kolom ini berisi informasi tentang segmen atau kategori pelanggan.\n",
        "8. Employees Status\t(Tipe data: object): Kolom ini berisi informasi tentang status karyawan pelanggan.\n",
        "9. Payment Method\t(Tipe datta: object): Kolom ini berisi informasi tentang metode pembayaran yang digunakan pelanggan.\n",
        "10. Referal\t(Tipe data: float64): Kolom ini berisi informasi tentang sumber referral atau perujuk pelanggan, misalnya kode promo, iklan tertentu, atau nama referal lainnya.\n",
        "11. Amount Spent (Tipe data: float64): Kolom ini berisi informasi tentang jumlah yang dibelanjakan pelanggan dalam transaksi tersebut."
      ],
      "metadata": {
        "id": "OxyjxUEsj_Jw"
      }
    },
    {
      "cell_type": "markdown",
      "source": [
        "#Informasi Statistik Deskriptif"
      ],
      "metadata": {
        "id": "geYTXxm2kAuR"
      }
    },
    {
      "cell_type": "code",
      "source": [
        "df_file.describe()"
      ],
      "metadata": {
        "colab": {
          "base_uri": "https://localhost:8080/",
          "height": 301
        },
        "id": "lrdL6EcNkJ8O",
        "outputId": "d6c8ca09-7803-4f60-b83f-a04569d5d05c"
      },
      "execution_count": null,
      "outputs": [
        {
          "output_type": "execute_result",
          "data": {
            "text/plain": [
              "       Transaction_ID          Age      Referal  Amount_spent\n",
              "count     2512.000000  2470.000000  2357.000000   2270.000000\n",
              "mean    152443.931131    46.637652     0.652100   1418.422577\n",
              "std        724.580482    18.186277     0.476405    878.507451\n",
              "min     151200.000000    15.000000     0.000000      2.090000\n",
              "25%     151815.750000    32.000000     0.000000    678.192500\n",
              "50%     152443.500000    47.000000     1.000000   1341.435000\n",
              "75%     153071.250000    62.000000     1.000000   2038.102500\n",
              "max     153699.000000    78.000000     1.000000   2999.980000"
            ],
            "text/html": [
              "\n",
              "  <div id=\"df-4e773814-f259-49d4-974b-60e471b3565a\" class=\"colab-df-container\">\n",
              "    <div>\n",
              "<style scoped>\n",
              "    .dataframe tbody tr th:only-of-type {\n",
              "        vertical-align: middle;\n",
              "    }\n",
              "\n",
              "    .dataframe tbody tr th {\n",
              "        vertical-align: top;\n",
              "    }\n",
              "\n",
              "    .dataframe thead th {\n",
              "        text-align: right;\n",
              "    }\n",
              "</style>\n",
              "<table border=\"1\" class=\"dataframe\">\n",
              "  <thead>\n",
              "    <tr style=\"text-align: right;\">\n",
              "      <th></th>\n",
              "      <th>Transaction_ID</th>\n",
              "      <th>Age</th>\n",
              "      <th>Referal</th>\n",
              "      <th>Amount_spent</th>\n",
              "    </tr>\n",
              "  </thead>\n",
              "  <tbody>\n",
              "    <tr>\n",
              "      <th>count</th>\n",
              "      <td>2512.000000</td>\n",
              "      <td>2470.000000</td>\n",
              "      <td>2357.000000</td>\n",
              "      <td>2270.000000</td>\n",
              "    </tr>\n",
              "    <tr>\n",
              "      <th>mean</th>\n",
              "      <td>152443.931131</td>\n",
              "      <td>46.637652</td>\n",
              "      <td>0.652100</td>\n",
              "      <td>1418.422577</td>\n",
              "    </tr>\n",
              "    <tr>\n",
              "      <th>std</th>\n",
              "      <td>724.580482</td>\n",
              "      <td>18.186277</td>\n",
              "      <td>0.476405</td>\n",
              "      <td>878.507451</td>\n",
              "    </tr>\n",
              "    <tr>\n",
              "      <th>min</th>\n",
              "      <td>151200.000000</td>\n",
              "      <td>15.000000</td>\n",
              "      <td>0.000000</td>\n",
              "      <td>2.090000</td>\n",
              "    </tr>\n",
              "    <tr>\n",
              "      <th>25%</th>\n",
              "      <td>151815.750000</td>\n",
              "      <td>32.000000</td>\n",
              "      <td>0.000000</td>\n",
              "      <td>678.192500</td>\n",
              "    </tr>\n",
              "    <tr>\n",
              "      <th>50%</th>\n",
              "      <td>152443.500000</td>\n",
              "      <td>47.000000</td>\n",
              "      <td>1.000000</td>\n",
              "      <td>1341.435000</td>\n",
              "    </tr>\n",
              "    <tr>\n",
              "      <th>75%</th>\n",
              "      <td>153071.250000</td>\n",
              "      <td>62.000000</td>\n",
              "      <td>1.000000</td>\n",
              "      <td>2038.102500</td>\n",
              "    </tr>\n",
              "    <tr>\n",
              "      <th>max</th>\n",
              "      <td>153699.000000</td>\n",
              "      <td>78.000000</td>\n",
              "      <td>1.000000</td>\n",
              "      <td>2999.980000</td>\n",
              "    </tr>\n",
              "  </tbody>\n",
              "</table>\n",
              "</div>\n",
              "    <div class=\"colab-df-buttons\">\n",
              "\n",
              "  <div class=\"colab-df-container\">\n",
              "    <button class=\"colab-df-convert\" onclick=\"convertToInteractive('df-4e773814-f259-49d4-974b-60e471b3565a')\"\n",
              "            title=\"Convert this dataframe to an interactive table.\"\n",
              "            style=\"display:none;\">\n",
              "\n",
              "  <svg xmlns=\"http://www.w3.org/2000/svg\" height=\"24px\" viewBox=\"0 -960 960 960\">\n",
              "    <path d=\"M120-120v-720h720v720H120Zm60-500h600v-160H180v160Zm220 220h160v-160H400v160Zm0 220h160v-160H400v160ZM180-400h160v-160H180v160Zm440 0h160v-160H620v160ZM180-180h160v-160H180v160Zm440 0h160v-160H620v160Z\"/>\n",
              "  </svg>\n",
              "    </button>\n",
              "\n",
              "  <style>\n",
              "    .colab-df-container {\n",
              "      display:flex;\n",
              "      gap: 12px;\n",
              "    }\n",
              "\n",
              "    .colab-df-convert {\n",
              "      background-color: #E8F0FE;\n",
              "      border: none;\n",
              "      border-radius: 50%;\n",
              "      cursor: pointer;\n",
              "      display: none;\n",
              "      fill: #1967D2;\n",
              "      height: 32px;\n",
              "      padding: 0 0 0 0;\n",
              "      width: 32px;\n",
              "    }\n",
              "\n",
              "    .colab-df-convert:hover {\n",
              "      background-color: #E2EBFA;\n",
              "      box-shadow: 0px 1px 2px rgba(60, 64, 67, 0.3), 0px 1px 3px 1px rgba(60, 64, 67, 0.15);\n",
              "      fill: #174EA6;\n",
              "    }\n",
              "\n",
              "    .colab-df-buttons div {\n",
              "      margin-bottom: 4px;\n",
              "    }\n",
              "\n",
              "    [theme=dark] .colab-df-convert {\n",
              "      background-color: #3B4455;\n",
              "      fill: #D2E3FC;\n",
              "    }\n",
              "\n",
              "    [theme=dark] .colab-df-convert:hover {\n",
              "      background-color: #434B5C;\n",
              "      box-shadow: 0px 1px 3px 1px rgba(0, 0, 0, 0.15);\n",
              "      filter: drop-shadow(0px 1px 2px rgba(0, 0, 0, 0.3));\n",
              "      fill: #FFFFFF;\n",
              "    }\n",
              "  </style>\n",
              "\n",
              "    <script>\n",
              "      const buttonEl =\n",
              "        document.querySelector('#df-4e773814-f259-49d4-974b-60e471b3565a button.colab-df-convert');\n",
              "      buttonEl.style.display =\n",
              "        google.colab.kernel.accessAllowed ? 'block' : 'none';\n",
              "\n",
              "      async function convertToInteractive(key) {\n",
              "        const element = document.querySelector('#df-4e773814-f259-49d4-974b-60e471b3565a');\n",
              "        const dataTable =\n",
              "          await google.colab.kernel.invokeFunction('convertToInteractive',\n",
              "                                                    [key], {});\n",
              "        if (!dataTable) return;\n",
              "\n",
              "        const docLinkHtml = 'Like what you see? Visit the ' +\n",
              "          '<a target=\"_blank\" href=https://colab.research.google.com/notebooks/data_table.ipynb>data table notebook</a>'\n",
              "          + ' to learn more about interactive tables.';\n",
              "        element.innerHTML = '';\n",
              "        dataTable['output_type'] = 'display_data';\n",
              "        await google.colab.output.renderOutput(dataTable, element);\n",
              "        const docLink = document.createElement('div');\n",
              "        docLink.innerHTML = docLinkHtml;\n",
              "        element.appendChild(docLink);\n",
              "      }\n",
              "    </script>\n",
              "  </div>\n",
              "\n",
              "\n",
              "<div id=\"df-e4de65bf-8b79-4381-8bd8-572736968675\">\n",
              "  <button class=\"colab-df-quickchart\" onclick=\"quickchart('df-e4de65bf-8b79-4381-8bd8-572736968675')\"\n",
              "            title=\"Suggest charts\"\n",
              "            style=\"display:none;\">\n",
              "\n",
              "<svg xmlns=\"http://www.w3.org/2000/svg\" height=\"24px\"viewBox=\"0 0 24 24\"\n",
              "     width=\"24px\">\n",
              "    <g>\n",
              "        <path d=\"M19 3H5c-1.1 0-2 .9-2 2v14c0 1.1.9 2 2 2h14c1.1 0 2-.9 2-2V5c0-1.1-.9-2-2-2zM9 17H7v-7h2v7zm4 0h-2V7h2v10zm4 0h-2v-4h2v4z\"/>\n",
              "    </g>\n",
              "</svg>\n",
              "  </button>\n",
              "\n",
              "<style>\n",
              "  .colab-df-quickchart {\n",
              "      --bg-color: #E8F0FE;\n",
              "      --fill-color: #1967D2;\n",
              "      --hover-bg-color: #E2EBFA;\n",
              "      --hover-fill-color: #174EA6;\n",
              "      --disabled-fill-color: #AAA;\n",
              "      --disabled-bg-color: #DDD;\n",
              "  }\n",
              "\n",
              "  [theme=dark] .colab-df-quickchart {\n",
              "      --bg-color: #3B4455;\n",
              "      --fill-color: #D2E3FC;\n",
              "      --hover-bg-color: #434B5C;\n",
              "      --hover-fill-color: #FFFFFF;\n",
              "      --disabled-bg-color: #3B4455;\n",
              "      --disabled-fill-color: #666;\n",
              "  }\n",
              "\n",
              "  .colab-df-quickchart {\n",
              "    background-color: var(--bg-color);\n",
              "    border: none;\n",
              "    border-radius: 50%;\n",
              "    cursor: pointer;\n",
              "    display: none;\n",
              "    fill: var(--fill-color);\n",
              "    height: 32px;\n",
              "    padding: 0;\n",
              "    width: 32px;\n",
              "  }\n",
              "\n",
              "  .colab-df-quickchart:hover {\n",
              "    background-color: var(--hover-bg-color);\n",
              "    box-shadow: 0 1px 2px rgba(60, 64, 67, 0.3), 0 1px 3px 1px rgba(60, 64, 67, 0.15);\n",
              "    fill: var(--button-hover-fill-color);\n",
              "  }\n",
              "\n",
              "  .colab-df-quickchart-complete:disabled,\n",
              "  .colab-df-quickchart-complete:disabled:hover {\n",
              "    background-color: var(--disabled-bg-color);\n",
              "    fill: var(--disabled-fill-color);\n",
              "    box-shadow: none;\n",
              "  }\n",
              "\n",
              "  .colab-df-spinner {\n",
              "    border: 2px solid var(--fill-color);\n",
              "    border-color: transparent;\n",
              "    border-bottom-color: var(--fill-color);\n",
              "    animation:\n",
              "      spin 1s steps(1) infinite;\n",
              "  }\n",
              "\n",
              "  @keyframes spin {\n",
              "    0% {\n",
              "      border-color: transparent;\n",
              "      border-bottom-color: var(--fill-color);\n",
              "      border-left-color: var(--fill-color);\n",
              "    }\n",
              "    20% {\n",
              "      border-color: transparent;\n",
              "      border-left-color: var(--fill-color);\n",
              "      border-top-color: var(--fill-color);\n",
              "    }\n",
              "    30% {\n",
              "      border-color: transparent;\n",
              "      border-left-color: var(--fill-color);\n",
              "      border-top-color: var(--fill-color);\n",
              "      border-right-color: var(--fill-color);\n",
              "    }\n",
              "    40% {\n",
              "      border-color: transparent;\n",
              "      border-right-color: var(--fill-color);\n",
              "      border-top-color: var(--fill-color);\n",
              "    }\n",
              "    60% {\n",
              "      border-color: transparent;\n",
              "      border-right-color: var(--fill-color);\n",
              "    }\n",
              "    80% {\n",
              "      border-color: transparent;\n",
              "      border-right-color: var(--fill-color);\n",
              "      border-bottom-color: var(--fill-color);\n",
              "    }\n",
              "    90% {\n",
              "      border-color: transparent;\n",
              "      border-bottom-color: var(--fill-color);\n",
              "    }\n",
              "  }\n",
              "</style>\n",
              "\n",
              "  <script>\n",
              "    async function quickchart(key) {\n",
              "      const quickchartButtonEl =\n",
              "        document.querySelector('#' + key + ' button');\n",
              "      quickchartButtonEl.disabled = true;  // To prevent multiple clicks.\n",
              "      quickchartButtonEl.classList.add('colab-df-spinner');\n",
              "      try {\n",
              "        const charts = await google.colab.kernel.invokeFunction(\n",
              "            'suggestCharts', [key], {});\n",
              "      } catch (error) {\n",
              "        console.error('Error during call to suggestCharts:', error);\n",
              "      }\n",
              "      quickchartButtonEl.classList.remove('colab-df-spinner');\n",
              "      quickchartButtonEl.classList.add('colab-df-quickchart-complete');\n",
              "    }\n",
              "    (() => {\n",
              "      let quickchartButtonEl =\n",
              "        document.querySelector('#df-e4de65bf-8b79-4381-8bd8-572736968675 button');\n",
              "      quickchartButtonEl.style.display =\n",
              "        google.colab.kernel.accessAllowed ? 'block' : 'none';\n",
              "    })();\n",
              "  </script>\n",
              "</div>\n",
              "    </div>\n",
              "  </div>\n"
            ],
            "application/vnd.google.colaboratory.intrinsic+json": {
              "type": "dataframe",
              "summary": "{\n  \"name\": \"df_file\",\n  \"rows\": 8,\n  \"fields\": [\n    {\n      \"column\": \"Transaction_ID\",\n      \"properties\": {\n        \"dtype\": \"number\",\n        \"std\": 69825.09929403667,\n        \"min\": 724.580482061382,\n        \"max\": 153699.0,\n        \"num_unique_values\": 8,\n        \"samples\": [\n          152443.93113057324,\n          152443.5,\n          2512.0\n        ],\n        \"semantic_type\": \"\",\n        \"description\": \"\"\n      }\n    },\n    {\n      \"column\": \"Age\",\n      \"properties\": {\n        \"dtype\": \"number\",\n        \"std\": 858.4449036128782,\n        \"min\": 15.0,\n        \"max\": 2470.0,\n        \"num_unique_values\": 8,\n        \"samples\": [\n          46.63765182186235,\n          47.0,\n          2470.0\n        ],\n        \"semantic_type\": \"\",\n        \"description\": \"\"\n      }\n    },\n    {\n      \"column\": \"Referal\",\n      \"properties\": {\n        \"dtype\": \"number\",\n        \"std\": 833.1169249876845,\n        \"min\": 0.0,\n        \"max\": 2357.0,\n        \"num_unique_values\": 5,\n        \"samples\": [\n          0.6521001272804412,\n          1.0,\n          0.4764051258751165\n        ],\n        \"semantic_type\": \"\",\n        \"description\": \"\"\n      }\n    },\n    {\n      \"column\": \"Amount_spent\",\n      \"properties\": {\n        \"dtype\": \"number\",\n        \"std\": 960.0692423327291,\n        \"min\": 2.09,\n        \"max\": 2999.98,\n        \"num_unique_values\": 8,\n        \"samples\": [\n          1418.4225770925111,\n          1341.435,\n          2270.0\n        ],\n        \"semantic_type\": \"\",\n        \"description\": \"\"\n      }\n    }\n  ]\n}"
            }
          },
          "metadata": {},
          "execution_count": 6
        }
      ]
    },
    {
      "cell_type": "markdown",
      "source": [
        "Kolom:\n",
        "\n",
        "1. Transaction_ID: Kolom ini berisi ID transaksi, yang merupakan pengenal unik untuk setiap transaksi.\n",
        "2. Age: Kolom ini berisi usia pelanggan yang melakukan transaksi.\n",
        "3. Referal: Kolom ini berisi informasi tentang bagaimana pelanggan mengetahui tentang toko, seperti melalui iklan, media sosial, atau dari teman.\n",
        "4. Amount_spent: Kolom ini berisi jumlah yang dihabiskan pelanggan dalam transaksi.\n",
        "\n",
        "\n",
        "\n",
        "\n",
        "\n",
        "Baris:\n",
        "\n",
        "1. count: Baris ini menunjukkan jumlah total transaksi yang dianalisis.\n",
        "2. mean: Baris ini menunjukkan rata-rata untuk setiap kolom. Dalam hal ini, rata-rata ID transaksi adalah 152443.931131, rata-rata usia pelanggan adalah 46.637652, rata-rata nilai referral adalah 0.652100, dan rata-rata jumlah yang dihabiskan adalah 1418.422577.\n",
        "3. std: Baris ini menunjukkan standar deviasi untuk setiap kolom. Standar deviasi adalah ukuran seberapa tersebar data di sekitar rata-rata. Semakin tinggi standar deviasi, semakin banyak data yang bervariasi dari rata-rata.\n",
        "4. min: Baris ini menunjukkan nilai minimum untuk setiap kolom. Nilai minimum adalah nilai terendah yang ditemukan dalam kolom.\n",
        "5. 25%: Baris ini menunjukkan kuartil pertama untuk setiap kolom. Kuartil pertama adalah nilai yang membagi data menjadi dua bagian, dengan 25% data di bawah kuartil pertama dan 75% data di atasnya.\n",
        "6. 50%: Baris ini menunjukkan median untuk setiap kolom. Median adalah nilai tengah dalam kumpulan data.\n",
        "7. 75%: Baris ini menunjukkan kuartil ketiga untuk setiap kolom. Kuartil ketiga adalah nilai yang membagi data menjadi dua bagian, dengan 75% data di bawah kuartil ketiga dan 25% data di atasnya.\n",
        "8. max: Baris ini menunjukkan nilai maksimum untuk setiap kolom. Nilai maksimum adalah nilai tertinggi yang ditemukan dalam kolom.\n",
        "\n"
      ],
      "metadata": {
        "id": "LwpRpQAmkLKt"
      }
    },
    {
      "cell_type": "markdown",
      "source": [
        "#Exploratory Data Analysis"
      ],
      "metadata": {
        "id": "R8Dvfyl9kMCb"
      }
    },
    {
      "cell_type": "code",
      "source": [
        "plt.pie(df_file[\"Gender\"].value_counts(), labels=[\"Male\", \"Female\"], autopct=\"%1.1f%%\")\n",
        "plt.title(\"Gender Distribution\")\n",
        "plt.show()"
      ],
      "metadata": {
        "colab": {
          "base_uri": "https://localhost:8080/",
          "height": 428
        },
        "id": "fj0fD1gnkUZg",
        "outputId": "49a9c28b-d303-43c8-b9ce-f80460bc0c2e"
      },
      "execution_count": null,
      "outputs": [
        {
          "output_type": "display_data",
          "data": {
            "text/plain": [
              "<Figure size 640x480 with 1 Axes>"
            ],
            "image/png": "[encoded data removed]"
          },
          "metadata": {}
        }
      ]
    },
    {
      "cell_type": "markdown",
      "source": [
        "Visualisasi diatas menunjukkan bahwa proporsi wanita yang berbelanja online lebih tinggi dibandingkan pria. Hal ini dapat disimpulkan bahwa gender merupakan salah satu faktor yang mempengaruhi seseorang berbelanja di online store."
      ],
      "metadata": {
        "id": "SoaQlSUa2g0w"
      }
    },
    {
      "cell_type": "code",
      "source": [
        "plt.hist(df_file[\"Age\"])\n",
        "plt.title(\"Age Distribution\")\n",
        "plt.xlabel(\"Age\")\n",
        "plt.ylabel(\"Number of Customers\")\n",
        "plt.show()"
      ],
      "metadata": {
        "colab": {
          "base_uri": "https://localhost:8080/",
          "height": 472
        },
        "id": "dvIjhZZX_duZ",
        "outputId": "e4672875-6f7b-471d-e500-3abc91e1b766"
      },
      "execution_count": null,
      "outputs": [
        {
          "output_type": "display_data",
          "data": {
            "text/plain": [
              "<Figure size 640x480 with 1 Axes>"
            ],
            "image/png": "[encoded data removed]"
          },
          "metadata": {}
        }
      ]
    },
    {
      "cell_type": "markdown",
      "source": [
        "Visualisasi diatas menunjukkan bahwa pelanggan online store terbanyak berada pada usia 25-45 tahun. Hal ini menunjukkan bahwa usia merupakan faktor penting dalam menentukan target pasar online store."
      ],
      "metadata": {
        "id": "mP1FYuY1_s7R"
      }
    },
    {
      "cell_type": "code",
      "source": [
        "plt.bar(df_file[\"Segment\"].unique(), df_file[\"Segment\"].value_counts())\n",
        "plt.title(\"Customer Segmentation\")\n",
        "plt.xlabel(\"Segment\")\n",
        "plt.ylabel(\"Number of Customers\")\n",
        "plt.show()"
      ],
      "metadata": {
        "colab": {
          "base_uri": "https://localhost:8080/",
          "height": 472
        },
        "id": "vzDs0jts_0cr",
        "outputId": "350efa48-11b9-4ffc-a692-8dba065b6562"
      },
      "execution_count": null,
      "outputs": [
        {
          "output_type": "display_data",
          "data": {
            "text/plain": [
              "<Figure size 640x480 with 1 Axes>"
            ],
            "image/png": "[encoded data removed]"
          },
          "metadata": {}
        }
      ]
    },
    {
      "cell_type": "markdown",
      "source": [
        "Visualisasi diatas menunjukkan bahwa sebagian besar pelanggan online store berada di segmen Silver. Hal ini dapat menjadi informasi penting bagi online store untuk menentukan strategi marketing dan promosi yang sesuai dengan segmen Silver."
      ],
      "metadata": {
        "id": "WtR2sO1u_-Vw"
      }
    },
    {
      "cell_type": "code",
      "source": [
        "plt.pie(df_file[\"Employees_status\"].value_counts(), labels=[\"Employees\", \"self-employee\", \"workers\", \"Unemployment\"], autopct=\"%1.1f%%\")\n",
        "plt.title(\"Customer Online Store\")\n",
        "plt.show()"
      ],
      "metadata": {
        "colab": {
          "base_uri": "https://localhost:8080/",
          "height": 428
        },
        "id": "lqTktdpSAGed",
        "outputId": "fcddf3c8-616a-444f-a910-c77e605689b7"
      },
      "execution_count": null,
      "outputs": [
        {
          "output_type": "display_data",
          "data": {
            "text/plain": [
              "<Figure size 640x480 with 1 Axes>"
            ],
            "image/png": "[encoded data removed]"
          },
          "metadata": {}
        }
      ]
    },
    {
      "cell_type": "markdown",
      "source": [
        "Visualisasi diatas menunjukkan bahwa karyawan, wirausaha, dan pekerja lebih banyak melakukan pembelian di online store dibandingkan yang bukan karyawan(tidak memiliki pekerjaan). Hal ini bisa jadi karena gaji dari karyawan, wirausaha, dan pekerja lebih pasti serta mereka memiliki waktu yang terbatas untuk berbelanja di toko fisik dibanding dengan yang bukan karyawan(tidak memiliki pekerjaan)."
      ],
      "metadata": {
        "id": "rukaCVgMArNf"
      }
    },
    {
      "cell_type": "code",
      "source": [
        "plt.bar(df_file[\"Referal\"].unique(), df_file[\"Referal\"].value_counts())\n",
        "plt.title(\"Referral Source\")\n",
        "plt.xlabel(\"Referral Source\")\n",
        "plt.ylabel(\"Number of Customers\")\n",
        "plt.show()"
      ],
      "metadata": {
        "colab": {
          "base_uri": "https://localhost:8080/",
          "height": 472
        },
        "id": "JmYtyLZ4AsEO",
        "outputId": "bf085ddf-9cd9-4a9c-9d66-a1c31774f14f"
      },
      "execution_count": null,
      "outputs": [
        {
          "output_type": "display_data",
          "data": {
            "text/plain": [
              "<Figure size 640x480 with 1 Axes>"
            ],
            "image/png": "[encoded data removed]"
          },
          "metadata": {}
        }
      ]
    },
    {
      "cell_type": "markdown",
      "source": [
        "Visualisasi diatas menunjukkan bahwa sumber referral yang paling banyak digunakan adalah email. Hal ini menunjukkan bahwa strategi email marketing online store cukup efektif dalam menarik pelanggan baru."
      ],
      "metadata": {
        "id": "78jktONcBREu"
      }
    },
    {
      "cell_type": "code",
      "source": [
        "plt.hist(df_file[\"Amount_spent\"])\n",
        "plt.title(\"Amount Spent Distribution\")\n",
        "plt.xlabel(\"Amount Spent\")\n",
        "plt.ylabel(\"Number of Customers\")\n",
        "plt.show()"
      ],
      "metadata": {
        "colab": {
          "base_uri": "https://localhost:8080/",
          "height": 472
        },
        "id": "eW6tFIH3BftV",
        "outputId": "db78c6ff-9234-41ca-bb60-ca50648aca67"
      },
      "execution_count": null,
      "outputs": [
        {
          "output_type": "display_data",
          "data": {
            "text/plain": [
              "<Figure size 640x480 with 1 Axes>"
            ],
            "image/png": "[encoded data removed]"
          },
          "metadata": {}
        }
      ]
    },
    {
      "cell_type": "markdown",
      "source": [
        "Visualisasi diatas menunjukkan bahwa distribusi pengeluaran pelanggan online store tidak merata. Hal ini menunjukkan bahwa terdapat kelompok pelanggan yang melakukan pembelian dalam jumlah besar (high-value customers)."
      ],
      "metadata": {
        "id": "PjqsD88HByH1"
      }
    },
    {
      "cell_type": "markdown",
      "source": [
        "#**Verify Data Quality**"
      ],
      "metadata": {
        "id": "JPrh1sIbkXyD"
      }
    },
    {
      "cell_type": "markdown",
      "source": [
        "#Missing Values"
      ],
      "metadata": {
        "id": "D5n96MZSkgCy"
      }
    },
    {
      "cell_type": "code",
      "source": [
        "df_file.isnull().sum()"
      ],
      "metadata": {
        "colab": {
          "base_uri": "https://localhost:8080/"
        },
        "id": "xfll4eyPkjl0",
        "outputId": "39e4dde4-59d6-46cb-b2b0-1352db77610c"
      },
      "execution_count": null,
      "outputs": [
        {
          "output_type": "execute_result",
          "data": {
            "text/plain": [
              "Transaction_date      0\n",
              "Transaction_ID        0\n",
              "Gender               28\n",
              "Age                  42\n",
              "Marital_status        0\n",
              "State_names           0\n",
              "Segment               0\n",
              "Employees_status     26\n",
              "Payment_method        0\n",
              "Referal             155\n",
              "Amount_spent        242\n",
              "dtype: int64"
            ]
          },
          "metadata": {},
          "execution_count": 7
        }
      ]
    },
    {
      "cell_type": "markdown",
      "source": [
        "Berdasarkan output dataframe diatas, terdapat missing values pada beberapa kolom dataframe, yakni:\n",
        "\n",
        "1. Kolom Gender memiliki 28 missing values.\n",
        "2. Kolom Age memiliki 42 missing values.\n",
        "2. Kolom Employees Status memiliki 26 missing values.\n",
        "3. Kolom Referal memiliki 155 missing values.\n",
        "4. Kolom Transaction Date, Transaction Id, Marital Status, State Names, Segment, dan Payment Method memiliki 0 missing values."
      ],
      "metadata": {
        "id": "D9BJJuN_kljA"
      }
    },
    {
      "cell_type": "markdown",
      "source": [
        "#Outliers Values"
      ],
      "metadata": {
        "id": "QNtGlORnkmcQ"
      }
    },
    {
      "cell_type": "code",
      "source": [
        "results = []\n",
        "\n",
        "cols = df_file.select_dtypes(include=['float64', 'int64'])\n",
        "\n",
        "for col in cols:\n",
        "  q1 = df_file[col].quantile(0.25)\n",
        "  q3 = df_file[col].quantile(0.75)\n",
        "  iqr = q3 - q1\n",
        "  lower_bound = q1 - 1.5*iqr\n",
        "  upper_bound = q3 + 1.5*iqr\n",
        "  outliers = df_file[(df_file[col] < lower_bound) | (df_file[col] > upper_bound)]\n",
        "  percent_outliers = (len(outliers)/len(df_file))*100\n",
        "  results.append({'Kolom': col, 'Persentase Outliers': percent_outliers})\n",
        "\n",
        "# Dataframe dari list hasil\n",
        "results_df_file = pd.DataFrame(results)\n",
        "results_df_file.set_index('Kolom', inplace=True)\n",
        "results_df_file = results_df_file.rename_axis(None, axis=0).rename_axis('Kolom', axis=1)\n",
        "\n",
        "# Tampilkan dataframe\n",
        "display(results_df_file)"
      ],
      "metadata": {
        "id": "N8IUACi1krtd",
        "colab": {
          "base_uri": "https://localhost:8080/",
          "height": 175
        },
        "outputId": "55a059c6-acfd-4352-9098-d308c4f16d3e"
      },
      "execution_count": null,
      "outputs": [
        {
          "output_type": "display_data",
          "data": {
            "text/plain": [
              "Kolom           Persentase Outliers\n",
              "Transaction_ID                  0.0\n",
              "Age                             0.0\n",
              "Referal                         0.0\n",
              "Amount_spent                    0.0"
            ],
            "text/html": [
              "\n",
              "  <div id=\"df-6e465407-df9b-4902-a4de-89db136cc36b\" class=\"colab-df-container\">\n",
              "    <div>\n",
              "<style scoped>\n",
              "    .dataframe tbody tr th:only-of-type {\n",
              "        vertical-align: middle;\n",
              "    }\n",
              "\n",
              "    .dataframe tbody tr th {\n",
              "        vertical-align: top;\n",
              "    }\n",
              "\n",
              "    .dataframe thead th {\n",
              "        text-align: right;\n",
              "    }\n",
              "</style>\n",
              "<table border=\"1\" class=\"dataframe\">\n",
              "  <thead>\n",
              "    <tr style=\"text-align: right;\">\n",
              "      <th>Kolom</th>\n",
              "      <th>Persentase Outliers</th>\n",
              "    </tr>\n",
              "  </thead>\n",
              "  <tbody>\n",
              "    <tr>\n",
              "      <th>Transaction_ID</th>\n",
              "      <td>0.0</td>\n",
              "    </tr>\n",
              "    <tr>\n",
              "      <th>Age</th>\n",
              "      <td>0.0</td>\n",
              "    </tr>\n",
              "    <tr>\n",
              "      <th>Referal</th>\n",
              "      <td>0.0</td>\n",
              "    </tr>\n",
              "    <tr>\n",
              "      <th>Amount_spent</th>\n",
              "      <td>0.0</td>\n",
              "    </tr>\n",
              "  </tbody>\n",
              "</table>\n",
              "</div>\n",
              "    <div class=\"colab-df-buttons\">\n",
              "\n",
              "  <div class=\"colab-df-container\">\n",
              "    <button class=\"colab-df-convert\" onclick=\"convertToInteractive('df-6e465407-df9b-4902-a4de-89db136cc36b')\"\n",
              "            title=\"Convert this dataframe to an interactive table.\"\n",
              "            style=\"display:none;\">\n",
              "\n",
              "  <svg xmlns=\"http://www.w3.org/2000/svg\" height=\"24px\" viewBox=\"0 -960 960 960\">\n",
              "    <path d=\"M120-120v-720h720v720H120Zm60-500h600v-160H180v160Zm220 220h160v-160H400v160Zm0 220h160v-160H400v160ZM180-400h160v-160H180v160Zm440 0h160v-160H620v160ZM180-180h160v-160H180v160Zm440 0h160v-160H620v160Z\"/>\n",
              "  </svg>\n",
              "    </button>\n",
              "\n",
              "  <style>\n",
              "    .colab-df-container {\n",
              "      display:flex;\n",
              "      gap: 12px;\n",
              "    }\n",
              "\n",
              "    .colab-df-convert {\n",
              "      background-color: #E8F0FE;\n",
              "      border: none;\n",
              "      border-radius: 50%;\n",
              "      cursor: pointer;\n",
              "      display: none;\n",
              "      fill: #1967D2;\n",
              "      height: 32px;\n",
              "      padding: 0 0 0 0;\n",
              "      width: 32px;\n",
              "    }\n",
              "\n",
              "    .colab-df-convert:hover {\n",
              "      background-color: #E2EBFA;\n",
              "      box-shadow: 0px 1px 2px rgba(60, 64, 67, 0.3), 0px 1px 3px 1px rgba(60, 64, 67, 0.15);\n",
              "      fill: #174EA6;\n",
              "    }\n",
              "\n",
              "    .colab-df-buttons div {\n",
              "      margin-bottom: 4px;\n",
              "    }\n",
              "\n",
              "    [theme=dark] .colab-df-convert {\n",
              "      background-color: #3B4455;\n",
              "      fill: #D2E3FC;\n",
              "    }\n",
              "\n",
              "    [theme=dark] .colab-df-convert:hover {\n",
              "      background-color: #434B5C;\n",
              "      box-shadow: 0px 1px 3px 1px rgba(0, 0, 0, 0.15);\n",
              "      filter: drop-shadow(0px 1px 2px rgba(0, 0, 0, 0.3));\n",
              "      fill: #FFFFFF;\n",
              "    }\n",
              "  </style>\n",
              "\n",
              "    <script>\n",
              "      const buttonEl =\n",
              "        document.querySelector('#df-6e465407-df9b-4902-a4de-89db136cc36b button.colab-df-convert');\n",
              "      buttonEl.style.display =\n",
              "        google.colab.kernel.accessAllowed ? 'block' : 'none';\n",
              "\n",
              "      async function convertToInteractive(key) {\n",
              "        const element = document.querySelector('#df-6e465407-df9b-4902-a4de-89db136cc36b');\n",
              "        const dataTable =\n",
              "          await google.colab.kernel.invokeFunction('convertToInteractive',\n",
              "                                                    [key], {});\n",
              "        if (!dataTable) return;\n",
              "\n",
              "        const docLinkHtml = 'Like what you see? Visit the ' +\n",
              "          '<a target=\"_blank\" href=https://colab.research.google.com/notebooks/data_table.ipynb>data table notebook</a>'\n",
              "          + ' to learn more about interactive tables.';\n",
              "        element.innerHTML = '';\n",
              "        dataTable['output_type'] = 'display_data';\n",
              "        await google.colab.output.renderOutput(dataTable, element);\n",
              "        const docLink = document.createElement('div');\n",
              "        docLink.innerHTML = docLinkHtml;\n",
              "        element.appendChild(docLink);\n",
              "      }\n",
              "    </script>\n",
              "  </div>\n",
              "\n",
              "\n",
              "<div id=\"df-79fb23f5-6aa0-422a-9a46-19c3bd7cc117\">\n",
              "  <button class=\"colab-df-quickchart\" onclick=\"quickchart('df-79fb23f5-6aa0-422a-9a46-19c3bd7cc117')\"\n",
              "            title=\"Suggest charts\"\n",
              "            style=\"display:none;\">\n",
              "\n",
              "<svg xmlns=\"http://www.w3.org/2000/svg\" height=\"24px\"viewBox=\"0 0 24 24\"\n",
              "     width=\"24px\">\n",
              "    <g>\n",
              "        <path d=\"M19 3H5c-1.1 0-2 .9-2 2v14c0 1.1.9 2 2 2h14c1.1 0 2-.9 2-2V5c0-1.1-.9-2-2-2zM9 17H7v-7h2v7zm4 0h-2V7h2v10zm4 0h-2v-4h2v4z\"/>\n",
              "    </g>\n",
              "</svg>\n",
              "  </button>\n",
              "\n",
              "<style>\n",
              "  .colab-df-quickchart {\n",
              "      --bg-color: #E8F0FE;\n",
              "      --fill-color: #1967D2;\n",
              "      --hover-bg-color: #E2EBFA;\n",
              "      --hover-fill-color: #174EA6;\n",
              "      --disabled-fill-color: #AAA;\n",
              "      --disabled-bg-color: #DDD;\n",
              "  }\n",
              "\n",
              "  [theme=dark] .colab-df-quickchart {\n",
              "      --bg-color: #3B4455;\n",
              "      --fill-color: #D2E3FC;\n",
              "      --hover-bg-color: #434B5C;\n",
              "      --hover-fill-color: #FFFFFF;\n",
              "      --disabled-bg-color: #3B4455;\n",
              "      --disabled-fill-color: #666;\n",
              "  }\n",
              "\n",
              "  .colab-df-quickchart {\n",
              "    background-color: var(--bg-color);\n",
              "    border: none;\n",
              "    border-radius: 50%;\n",
              "    cursor: pointer;\n",
              "    display: none;\n",
              "    fill: var(--fill-color);\n",
              "    height: 32px;\n",
              "    padding: 0;\n",
              "    width: 32px;\n",
              "  }\n",
              "\n",
              "  .colab-df-quickchart:hover {\n",
              "    background-color: var(--hover-bg-color);\n",
              "    box-shadow: 0 1px 2px rgba(60, 64, 67, 0.3), 0 1px 3px 1px rgba(60, 64, 67, 0.15);\n",
              "    fill: var(--button-hover-fill-color);\n",
              "  }\n",
              "\n",
              "  .colab-df-quickchart-complete:disabled,\n",
              "  .colab-df-quickchart-complete:disabled:hover {\n",
              "    background-color: var(--disabled-bg-color);\n",
              "    fill: var(--disabled-fill-color);\n",
              "    box-shadow: none;\n",
              "  }\n",
              "\n",
              "  .colab-df-spinner {\n",
              "    border: 2px solid var(--fill-color);\n",
              "    border-color: transparent;\n",
              "    border-bottom-color: var(--fill-color);\n",
              "    animation:\n",
              "      spin 1s steps(1) infinite;\n",
              "  }\n",
              "\n",
              "  @keyframes spin {\n",
              "    0% {\n",
              "      border-color: transparent;\n",
              "      border-bottom-color: var(--fill-color);\n",
              "      border-left-color: var(--fill-color);\n",
              "    }\n",
              "    20% {\n",
              "      border-color: transparent;\n",
              "      border-left-color: var(--fill-color);\n",
              "      border-top-color: var(--fill-color);\n",
              "    }\n",
              "    30% {\n",
              "      border-color: transparent;\n",
              "      border-left-color: var(--fill-color);\n",
              "      border-top-color: var(--fill-color);\n",
              "      border-right-color: var(--fill-color);\n",
              "    }\n",
              "    40% {\n",
              "      border-color: transparent;\n",
              "      border-right-color: var(--fill-color);\n",
              "      border-top-color: var(--fill-color);\n",
              "    }\n",
              "    60% {\n",
              "      border-color: transparent;\n",
              "      border-right-color: var(--fill-color);\n",
              "    }\n",
              "    80% {\n",
              "      border-color: transparent;\n",
              "      border-right-color: var(--fill-color);\n",
              "      border-bottom-color: var(--fill-color);\n",
              "    }\n",
              "    90% {\n",
              "      border-color: transparent;\n",
              "      border-bottom-color: var(--fill-color);\n",
              "    }\n",
              "  }\n",
              "</style>\n",
              "\n",
              "  <script>\n",
              "    async function quickchart(key) {\n",
              "      const quickchartButtonEl =\n",
              "        document.querySelector('#' + key + ' button');\n",
              "      quickchartButtonEl.disabled = true;  // To prevent multiple clicks.\n",
              "      quickchartButtonEl.classList.add('colab-df-spinner');\n",
              "      try {\n",
              "        const charts = await google.colab.kernel.invokeFunction(\n",
              "            'suggestCharts', [key], {});\n",
              "      } catch (error) {\n",
              "        console.error('Error during call to suggestCharts:', error);\n",
              "      }\n",
              "      quickchartButtonEl.classList.remove('colab-df-spinner');\n",
              "      quickchartButtonEl.classList.add('colab-df-quickchart-complete');\n",
              "    }\n",
              "    (() => {\n",
              "      let quickchartButtonEl =\n",
              "        document.querySelector('#df-79fb23f5-6aa0-422a-9a46-19c3bd7cc117 button');\n",
              "      quickchartButtonEl.style.display =\n",
              "        google.colab.kernel.accessAllowed ? 'block' : 'none';\n",
              "    })();\n",
              "  </script>\n",
              "</div>\n",
              "    </div>\n",
              "  </div>\n"
            ],
            "application/vnd.google.colaboratory.intrinsic+json": {
              "type": "dataframe",
              "variable_name": "results_df_file",
              "summary": "{\n  \"name\": \"results_df_file\",\n  \"rows\": 4,\n  \"fields\": [\n    {\n      \"column\": \"Persentase Outliers\",\n      \"properties\": {\n        \"dtype\": \"number\",\n        \"std\": 0.0,\n        \"min\": 0.0,\n        \"max\": 0.0,\n        \"num_unique_values\": 1,\n        \"samples\": [\n          0.0\n        ],\n        \"semantic_type\": \"\",\n        \"description\": \"\"\n      }\n    }\n  ]\n}"
            }
          },
          "metadata": {}
        }
      ]
    },
    {
      "cell_type": "markdown",
      "source": [
        "Persentase outlier, yaitu sebesar 18.181818%.\n",
        "\n",
        "Sehingga dapat ditarik kesimpulan bahwa hampir seperlima dari dataset yang digunakan diidentifikasi sebagai outlier."
      ],
      "metadata": {
        "id": "tsGQ0g5_kvv1"
      }
    },
    {
      "cell_type": "markdown",
      "source": [
        "#Duplicated Values"
      ],
      "metadata": {
        "id": "JsC8Yt2ykwyD"
      }
    },
    {
      "cell_type": "code",
      "source": [
        "df_file[df_file.duplicated()]"
      ],
      "metadata": {
        "colab": {
          "base_uri": "https://localhost:8080/",
          "height": 426
        },
        "id": "Lwp_RfECk2l6",
        "outputId": "acbb2362-3c46-4d8a-b60d-89d553aa252d"
      },
      "execution_count": null,
      "outputs": [
        {
          "output_type": "execute_result",
          "data": {
            "text/plain": [
              "    Transaction_date  Transaction_ID  Gender   Age Marital_status  \\\n",
              "64         1/25/2019          151259    Male  73.0        Married   \n",
              "65         1/26/2019          151260    Male  55.0        Married   \n",
              "66         1/26/2019          151261  Female  72.0        Married   \n",
              "67         1/26/2019          151262    Male  15.0        Married   \n",
              "68         1/27/2019          151263  Female  63.0         Single   \n",
              "109         2/6/2019          151297    Male  60.0        Married   \n",
              "110         2/7/2019          151298  Female  45.0        Married   \n",
              "111         2/8/2019          151299    Male  33.0         Single   \n",
              "112         2/8/2019          151300    Male  24.0        Married   \n",
              "113         2/8/2019          151301  Female  53.0         Single   \n",
              "114         2/8/2019          151302  Female  70.0        Married   \n",
              "115         2/8/2019          151303    Male  16.0        Married   \n",
              "\n",
              "        State_names   Segment Employees_status Payment_method  Referal  \\\n",
              "64    West Virginia     Basic        Employees         PayPal      0.0   \n",
              "65           Kansas     Basic        Employees          Other      1.0   \n",
              "66             Iowa    Silver     Unemployment         PayPal      NaN   \n",
              "67   South Carolina     Basic    self-employed          Other      1.0   \n",
              "68            Texas      Gold        Employees           Card      1.0   \n",
              "109            Utah    Silver     Unemployment          Other      1.0   \n",
              "110        Missouri  Platinum          workers          Other      1.0   \n",
              "111         Arizona    Silver          workers         PayPal      0.0   \n",
              "112  South Carolina     Basic     Unemployment          Other      0.0   \n",
              "113        Colorado     Basic    self-employed          Other      1.0   \n",
              "114   New Hampshire   Missing        Employees           Card      1.0   \n",
              "115        Nebraska     Basic          workers         PayPal      1.0   \n",
              "\n",
              "     Amount_spent  \n",
              "64        1397.09  \n",
              "65        1277.64  \n",
              "66         515.77  \n",
              "67         790.10  \n",
              "68        1218.56  \n",
              "109        433.20  \n",
              "110        929.89  \n",
              "111       2560.26  \n",
              "112           NaN  \n",
              "113       1888.69  \n",
              "114        685.49  \n",
              "115       1264.73  "
            ],
            "text/html": [
              "\n",
              "  <div id=\"df-7ec4192e-485b-4676-b923-7c8c07e4aade\" class=\"colab-df-container\">\n",
              "    <div>\n",
              "<style scoped>\n",
              "    .dataframe tbody tr th:only-of-type {\n",
              "        vertical-align: middle;\n",
              "    }\n",
              "\n",
              "    .dataframe tbody tr th {\n",
              "        vertical-align: top;\n",
              "    }\n",
              "\n",
              "    .dataframe thead th {\n",
              "        text-align: right;\n",
              "    }\n",
              "</style>\n",
              "<table border=\"1\" class=\"dataframe\">\n",
              "  <thead>\n",
              "    <tr style=\"text-align: right;\">\n",
              "      <th></th>\n",
              "      <th>Transaction_date</th>\n",
              "      <th>Transaction_ID</th>\n",
              "      <th>Gender</th>\n",
              "      <th>Age</th>\n",
              "      <th>Marital_status</th>\n",
              "      <th>State_names</th>\n",
              "      <th>Segment</th>\n",
              "      <th>Employees_status</th>\n",
              "      <th>Payment_method</th>\n",
              "      <th>Referal</th>\n",
              "      <th>Amount_spent</th>\n",
              "    </tr>\n",
              "  </thead>\n",
              "  <tbody>\n",
              "    <tr>\n",
              "      <th>64</th>\n",
              "      <td>1/25/2019</td>\n",
              "      <td>151259</td>\n",
              "      <td>Male</td>\n",
              "      <td>73.0</td>\n",
              "      <td>Married</td>\n",
              "      <td>West Virginia</td>\n",
              "      <td>Basic</td>\n",
              "      <td>Employees</td>\n",
              "      <td>PayPal</td>\n",
              "      <td>0.0</td>\n",
              "      <td>1397.09</td>\n",
              "    </tr>\n",
              "    <tr>\n",
              "      <th>65</th>\n",
              "      <td>1/26/2019</td>\n",
              "      <td>151260</td>\n",
              "      <td>Male</td>\n",
              "      <td>55.0</td>\n",
              "      <td>Married</td>\n",
              "      <td>Kansas</td>\n",
              "      <td>Basic</td>\n",
              "      <td>Employees</td>\n",
              "      <td>Other</td>\n",
              "      <td>1.0</td>\n",
              "      <td>1277.64</td>\n",
              "    </tr>\n",
              "    <tr>\n",
              "      <th>66</th>\n",
              "      <td>1/26/2019</td>\n",
              "      <td>151261</td>\n",
              "      <td>Female</td>\n",
              "      <td>72.0</td>\n",
              "      <td>Married</td>\n",
              "      <td>Iowa</td>\n",
              "      <td>Silver</td>\n",
              "      <td>Unemployment</td>\n",
              "      <td>PayPal</td>\n",
              "      <td>NaN</td>\n",
              "      <td>515.77</td>\n",
              "    </tr>\n",
              "    <tr>\n",
              "      <th>67</th>\n",
              "      <td>1/26/2019</td>\n",
              "      <td>151262</td>\n",
              "      <td>Male</td>\n",
              "      <td>15.0</td>\n",
              "      <td>Married</td>\n",
              "      <td>South Carolina</td>\n",
              "      <td>Basic</td>\n",
              "      <td>self-employed</td>\n",
              "      <td>Other</td>\n",
              "      <td>1.0</td>\n",
              "      <td>790.10</td>\n",
              "    </tr>\n",
              "    <tr>\n",
              "      <th>68</th>\n",
              "      <td>1/27/2019</td>\n",
              "      <td>151263</td>\n",
              "      <td>Female</td>\n",
              "      <td>63.0</td>\n",
              "      <td>Single</td>\n",
              "      <td>Texas</td>\n",
              "      <td>Gold</td>\n",
              "      <td>Employees</td>\n",
              "      <td>Card</td>\n",
              "      <td>1.0</td>\n",
              "      <td>1218.56</td>\n",
              "    </tr>\n",
              "    <tr>\n",
              "      <th>109</th>\n",
              "      <td>2/6/2019</td>\n",
              "      <td>151297</td>\n",
              "      <td>Male</td>\n",
              "      <td>60.0</td>\n",
              "      <td>Married</td>\n",
              "      <td>Utah</td>\n",
              "      <td>Silver</td>\n",
              "      <td>Unemployment</td>\n",
              "      <td>Other</td>\n",
              "      <td>1.0</td>\n",
              "      <td>433.20</td>\n",
              "    </tr>\n",
              "    <tr>\n",
              "      <th>110</th>\n",
              "      <td>2/7/2019</td>\n",
              "      <td>151298</td>\n",
              "      <td>Female</td>\n",
              "      <td>45.0</td>\n",
              "      <td>Married</td>\n",
              "      <td>Missouri</td>\n",
              "      <td>Platinum</td>\n",
              "      <td>workers</td>\n",
              "      <td>Other</td>\n",
              "      <td>1.0</td>\n",
              "      <td>929.89</td>\n",
              "    </tr>\n",
              "    <tr>\n",
              "      <th>111</th>\n",
              "      <td>2/8/2019</td>\n",
              "      <td>151299</td>\n",
              "      <td>Male</td>\n",
              "      <td>33.0</td>\n",
              "      <td>Single</td>\n",
              "      <td>Arizona</td>\n",
              "      <td>Silver</td>\n",
              "      <td>workers</td>\n",
              "      <td>PayPal</td>\n",
              "      <td>0.0</td>\n",
              "      <td>2560.26</td>\n",
              "    </tr>\n",
              "    <tr>\n",
              "      <th>112</th>\n",
              "      <td>2/8/2019</td>\n",
              "      <td>151300</td>\n",
              "      <td>Male</td>\n",
              "      <td>24.0</td>\n",
              "      <td>Married</td>\n",
              "      <td>South Carolina</td>\n",
              "      <td>Basic</td>\n",
              "      <td>Unemployment</td>\n",
              "      <td>Other</td>\n",
              "      <td>0.0</td>\n",
              "      <td>NaN</td>\n",
              "    </tr>\n",
              "    <tr>\n",
              "      <th>113</th>\n",
              "      <td>2/8/2019</td>\n",
              "      <td>151301</td>\n",
              "      <td>Female</td>\n",
              "      <td>53.0</td>\n",
              "      <td>Single</td>\n",
              "      <td>Colorado</td>\n",
              "      <td>Basic</td>\n",
              "      <td>self-employed</td>\n",
              "      <td>Other</td>\n",
              "      <td>1.0</td>\n",
              "      <td>1888.69</td>\n",
              "    </tr>\n",
              "    <tr>\n",
              "      <th>114</th>\n",
              "      <td>2/8/2019</td>\n",
              "      <td>151302</td>\n",
              "      <td>Female</td>\n",
              "      <td>70.0</td>\n",
              "      <td>Married</td>\n",
              "      <td>New Hampshire</td>\n",
              "      <td>Missing</td>\n",
              "      <td>Employees</td>\n",
              "      <td>Card</td>\n",
              "      <td>1.0</td>\n",
              "      <td>685.49</td>\n",
              "    </tr>\n",
              "    <tr>\n",
              "      <th>115</th>\n",
              "      <td>2/8/2019</td>\n",
              "      <td>151303</td>\n",
              "      <td>Male</td>\n",
              "      <td>16.0</td>\n",
              "      <td>Married</td>\n",
              "      <td>Nebraska</td>\n",
              "      <td>Basic</td>\n",
              "      <td>workers</td>\n",
              "      <td>PayPal</td>\n",
              "      <td>1.0</td>\n",
              "      <td>1264.73</td>\n",
              "    </tr>\n",
              "  </tbody>\n",
              "</table>\n",
              "</div>\n",
              "    <div class=\"colab-df-buttons\">\n",
              "\n",
              "  <div class=\"colab-df-container\">\n",
              "    <button class=\"colab-df-convert\" onclick=\"convertToInteractive('df-7ec4192e-485b-4676-b923-7c8c07e4aade')\"\n",
              "            title=\"Convert this dataframe to an interactive table.\"\n",
              "            style=\"display:none;\">\n",
              "\n",
              "  <svg xmlns=\"http://www.w3.org/2000/svg\" height=\"24px\" viewBox=\"0 -960 960 960\">\n",
              "    <path d=\"M120-120v-720h720v720H120Zm60-500h600v-160H180v160Zm220 220h160v-160H400v160Zm0 220h160v-160H400v160ZM180-400h160v-160H180v160Zm440 0h160v-160H620v160ZM180-180h160v-160H180v160Zm440 0h160v-160H620v160Z\"/>\n",
              "  </svg>\n",
              "    </button>\n",
              "\n",
              "  <style>\n",
              "    .colab-df-container {\n",
              "      display:flex;\n",
              "      gap: 12px;\n",
              "    }\n",
              "\n",
              "    .colab-df-convert {\n",
              "      background-color: #E8F0FE;\n",
              "      border: none;\n",
              "      border-radius: 50%;\n",
              "      cursor: pointer;\n",
              "      display: none;\n",
              "      fill: #1967D2;\n",
              "      height: 32px;\n",
              "      padding: 0 0 0 0;\n",
              "      width: 32px;\n",
              "    }\n",
              "\n",
              "    .colab-df-convert:hover {\n",
              "      background-color: #E2EBFA;\n",
              "      box-shadow: 0px 1px 2px rgba(60, 64, 67, 0.3), 0px 1px 3px 1px rgba(60, 64, 67, 0.15);\n",
              "      fill: #174EA6;\n",
              "    }\n",
              "\n",
              "    .colab-df-buttons div {\n",
              "      margin-bottom: 4px;\n",
              "    }\n",
              "\n",
              "    [theme=dark] .colab-df-convert {\n",
              "      background-color: #3B4455;\n",
              "      fill: #D2E3FC;\n",
              "    }\n",
              "\n",
              "    [theme=dark] .colab-df-convert:hover {\n",
              "      background-color: #434B5C;\n",
              "      box-shadow: 0px 1px 3px 1px rgba(0, 0, 0, 0.15);\n",
              "      filter: drop-shadow(0px 1px 2px rgba(0, 0, 0, 0.3));\n",
              "      fill: #FFFFFF;\n",
              "    }\n",
              "  </style>\n",
              "\n",
              "    <script>\n",
              "      const buttonEl =\n",
              "        document.querySelector('#df-7ec4192e-485b-4676-b923-7c8c07e4aade button.colab-df-convert');\n",
              "      buttonEl.style.display =\n",
              "        google.colab.kernel.accessAllowed ? 'block' : 'none';\n",
              "\n",
              "      async function convertToInteractive(key) {\n",
              "        const element = document.querySelector('#df-7ec4192e-485b-4676-b923-7c8c07e4aade');\n",
              "        const dataTable =\n",
              "          await google.colab.kernel.invokeFunction('convertToInteractive',\n",
              "                                                    [key], {});\n",
              "        if (!dataTable) return;\n",
              "\n",
              "        const docLinkHtml = 'Like what you see? Visit the ' +\n",
              "          '<a target=\"_blank\" href=https://colab.research.google.com/notebooks/data_table.ipynb>data table notebook</a>'\n",
              "          + ' to learn more about interactive tables.';\n",
              "        element.innerHTML = '';\n",
              "        dataTable['output_type'] = 'display_data';\n",
              "        await google.colab.output.renderOutput(dataTable, element);\n",
              "        const docLink = document.createElement('div');\n",
              "        docLink.innerHTML = docLinkHtml;\n",
              "        element.appendChild(docLink);\n",
              "      }\n",
              "    </script>\n",
              "  </div>\n",
              "\n",
              "\n",
              "<div id=\"df-9dfa1d82-20b1-47b4-8733-4edb6175a181\">\n",
              "  <button class=\"colab-df-quickchart\" onclick=\"quickchart('df-9dfa1d82-20b1-47b4-8733-4edb6175a181')\"\n",
              "            title=\"Suggest charts\"\n",
              "            style=\"display:none;\">\n",
              "\n",
              "<svg xmlns=\"http://www.w3.org/2000/svg\" height=\"24px\"viewBox=\"0 0 24 24\"\n",
              "     width=\"24px\">\n",
              "    <g>\n",
              "        <path d=\"M19 3H5c-1.1 0-2 .9-2 2v14c0 1.1.9 2 2 2h14c1.1 0 2-.9 2-2V5c0-1.1-.9-2-2-2zM9 17H7v-7h2v7zm4 0h-2V7h2v10zm4 0h-2v-4h2v4z\"/>\n",
              "    </g>\n",
              "</svg>\n",
              "  </button>\n",
              "\n",
              "<style>\n",
              "  .colab-df-quickchart {\n",
              "      --bg-color: #E8F0FE;\n",
              "      --fill-color: #1967D2;\n",
              "      --hover-bg-color: #E2EBFA;\n",
              "      --hover-fill-color: #174EA6;\n",
              "      --disabled-fill-color: #AAA;\n",
              "      --disabled-bg-color: #DDD;\n",
              "  }\n",
              "\n",
              "  [theme=dark] .colab-df-quickchart {\n",
              "      --bg-color: #3B4455;\n",
              "      --fill-color: #D2E3FC;\n",
              "      --hover-bg-color: #434B5C;\n",
              "      --hover-fill-color: #FFFFFF;\n",
              "      --disabled-bg-color: #3B4455;\n",
              "      --disabled-fill-color: #666;\n",
              "  }\n",
              "\n",
              "  .colab-df-quickchart {\n",
              "    background-color: var(--bg-color);\n",
              "    border: none;\n",
              "    border-radius: 50%;\n",
              "    cursor: pointer;\n",
              "    display: none;\n",
              "    fill: var(--fill-color);\n",
              "    height: 32px;\n",
              "    padding: 0;\n",
              "    width: 32px;\n",
              "  }\n",
              "\n",
              "  .colab-df-quickchart:hover {\n",
              "    background-color: var(--hover-bg-color);\n",
              "    box-shadow: 0 1px 2px rgba(60, 64, 67, 0.3), 0 1px 3px 1px rgba(60, 64, 67, 0.15);\n",
              "    fill: var(--button-hover-fill-color);\n",
              "  }\n",
              "\n",
              "  .colab-df-quickchart-complete:disabled,\n",
              "  .colab-df-quickchart-complete:disabled:hover {\n",
              "    background-color: var(--disabled-bg-color);\n",
              "    fill: var(--disabled-fill-color);\n",
              "    box-shadow: none;\n",
              "  }\n",
              "\n",
              "  .colab-df-spinner {\n",
              "    border: 2px solid var(--fill-color);\n",
              "    border-color: transparent;\n",
              "    border-bottom-color: var(--fill-color);\n",
              "    animation:\n",
              "      spin 1s steps(1) infinite;\n",
              "  }\n",
              "\n",
              "  @keyframes spin {\n",
              "    0% {\n",
              "      border-color: transparent;\n",
              "      border-bottom-color: var(--fill-color);\n",
              "      border-left-color: var(--fill-color);\n",
              "    }\n",
              "    20% {\n",
              "      border-color: transparent;\n",
              "      border-left-color: var(--fill-color);\n",
              "      border-top-color: var(--fill-color);\n",
              "    }\n",
              "    30% {\n",
              "      border-color: transparent;\n",
              "      border-left-color: var(--fill-color);\n",
              "      border-top-color: var(--fill-color);\n",
              "      border-right-color: var(--fill-color);\n",
              "    }\n",
              "    40% {\n",
              "      border-color: transparent;\n",
              "      border-right-color: var(--fill-color);\n",
              "      border-top-color: var(--fill-color);\n",
              "    }\n",
              "    60% {\n",
              "      border-color: transparent;\n",
              "      border-right-color: var(--fill-color);\n",
              "    }\n",
              "    80% {\n",
              "      border-color: transparent;\n",
              "      border-right-color: var(--fill-color);\n",
              "      border-bottom-color: var(--fill-color);\n",
              "    }\n",
              "    90% {\n",
              "      border-color: transparent;\n",
              "      border-bottom-color: var(--fill-color);\n",
              "    }\n",
              "  }\n",
              "</style>\n",
              "\n",
              "  <script>\n",
              "    async function quickchart(key) {\n",
              "      const quickchartButtonEl =\n",
              "        document.querySelector('#' + key + ' button');\n",
              "      quickchartButtonEl.disabled = true;  // To prevent multiple clicks.\n",
              "      quickchartButtonEl.classList.add('colab-df-spinner');\n",
              "      try {\n",
              "        const charts = await google.colab.kernel.invokeFunction(\n",
              "            'suggestCharts', [key], {});\n",
              "      } catch (error) {\n",
              "        console.error('Error during call to suggestCharts:', error);\n",
              "      }\n",
              "      quickchartButtonEl.classList.remove('colab-df-spinner');\n",
              "      quickchartButtonEl.classList.add('colab-df-quickchart-complete');\n",
              "    }\n",
              "    (() => {\n",
              "      let quickchartButtonEl =\n",
              "        document.querySelector('#df-9dfa1d82-20b1-47b4-8733-4edb6175a181 button');\n",
              "      quickchartButtonEl.style.display =\n",
              "        google.colab.kernel.accessAllowed ? 'block' : 'none';\n",
              "    })();\n",
              "  </script>\n",
              "</div>\n",
              "    </div>\n",
              "  </div>\n"
            ],
            "application/vnd.google.colaboratory.intrinsic+json": {
              "type": "dataframe",
              "repr_error": "'str' object has no attribute 'empty'"
            }
          },
          "metadata": {},
          "execution_count": 9
        }
      ]
    },
    {
      "cell_type": "markdown",
      "source": [
        "Kolom:\n",
        "---------\n",
        "Index:\n",
        "Kolom ini menunjukkan indeks baris pada dataframe.\n",
        "\n",
        "False:\n",
        "Kolom ini berisi nilai boolean yang menunjukkan apakah nilai pada baris tersebut merupakan duplikasi atau tidak. Nilai False menunjukkan bahwa nilai pada baris tersebut tidak duplikat, sedangkan nilai True menunjukkan bahwa nilai pada baris tersebut duplikat.\n",
        "\n",
        "\n",
        "Baris:\n",
        "---------\n",
        "Setiap baris dalam dataframe mewakili satu baris data dalam dataframe asli. Nilai False pada setiap baris menunjukkan bahwa nilai pada baris tersebut tidak ditemukan di baris lain dalam dataframe.\n",
        "\n",
        "Kesimpulan:\n",
        "------------\n",
        "Berdasarkan output dataframe, terdapat beberapa nilai duplikasi dalam dataframe, yakni:\n",
        "\n",
        "1. Baris 64 dan 109 memiliki nilai yang sama di semua kolom.\n",
        "2. Baris 66 dan 114 memiliki nilai yang sama di semua kolom kecuali kolom Gender.\n",
        "3. Baris 67 dan 112 memiliki nilai yang sama di semua kolom kecuali kolom Marital_status.\n",
        "4. Baris 113 dan 115 memiliki nilai yang sama di semua kolom kecuali kolom Age."
      ],
      "metadata": {
        "id": "G_rgULH7k3Ab"
      }
    }
  ]
}